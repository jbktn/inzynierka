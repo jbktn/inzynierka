{
 "cells": [
  {
   "cell_type": "markdown",
   "id": "1d20aa11",
   "metadata": {},
   "source": [
    "# Pobieranie obrazów satelitarnych"
   ]
  },
  {
   "cell_type": "markdown",
   "id": "9252c98f",
   "metadata": {},
   "source": [
    "## Import bibliotek"
   ]
  },
  {
   "cell_type": "code",
   "execution_count": null,
   "id": "6536f4ee",
   "metadata": {},
   "outputs": [
    {
     "ename": "AttributeError",
     "evalue": "'str' object has no attribute '_client'",
     "output_type": "error",
     "traceback": [
      "\u001b[1;31m---------------------------------------------------------------------------\u001b[0m",
      "\u001b[1;31mAttributeError\u001b[0m                            Traceback (most recent call last)",
      "Cell \u001b[1;32mIn[5], line 7\u001b[0m\n\u001b[0;32m      5\u001b[0m \u001b[38;5;66;03m# Uwierzytelnienie (ustaw zmienną środowiskową)\u001b[39;00m\n\u001b[0;32m      6\u001b[0m PL_API_KEY\u001b[38;5;241m=\u001b[39m\u001b[38;5;124m'\u001b[39m\u001b[38;5;124mPLAK909f0895d2484280aefe9612a961fc34\u001b[39m\u001b[38;5;124m'\u001b[39m\n\u001b[1;32m----> 7\u001b[0m pl \u001b[38;5;241m=\u001b[39m \u001b[43mPlanet\u001b[49m\u001b[43m(\u001b[49m\u001b[43mPL_API_KEY\u001b[49m\u001b[43m)\u001b[49m  \u001b[38;5;66;03m# automatycznie wykrywa PL_API_KEY\u001b[39;00m\n",
      "File \u001b[1;32mc:\\Users\\delve\\AppData\\Local\\Programs\\Python\\Python312\\Lib\\site-packages\\planet\\sync\\client.py:52\u001b[0m, in \u001b[0;36mPlanet.__init__\u001b[1;34m(self, session, base_url)\u001b[0m\n\u001b[0;32m     48\u001b[0m \u001b[38;5;28;01mdef\u001b[39;00m \u001b[38;5;21m__init__\u001b[39m(\u001b[38;5;28mself\u001b[39m,\n\u001b[0;32m     49\u001b[0m              session: Optional[Session] \u001b[38;5;241m=\u001b[39m \u001b[38;5;28;01mNone\u001b[39;00m,\n\u001b[0;32m     50\u001b[0m              base_url: Optional[\u001b[38;5;28mstr\u001b[39m] \u001b[38;5;241m=\u001b[39m \u001b[38;5;28;01mNone\u001b[39;00m) \u001b[38;5;241m-\u001b[39m\u001b[38;5;241m>\u001b[39m \u001b[38;5;28;01mNone\u001b[39;00m:\n\u001b[0;32m     51\u001b[0m     \u001b[38;5;28mself\u001b[39m\u001b[38;5;241m.\u001b[39m_session \u001b[38;5;241m=\u001b[39m session \u001b[38;5;129;01mor\u001b[39;00m Session()\n\u001b[1;32m---> 52\u001b[0m     \u001b[38;5;28;43mself\u001b[39;49m\u001b[38;5;241;43m.\u001b[39;49m\u001b[43m_session\u001b[49m\u001b[38;5;241;43m.\u001b[39;49m\u001b[43m_client\u001b[49m\u001b[38;5;241m.\u001b[39mheaders\u001b[38;5;241m.\u001b[39mupdate({\n\u001b[0;32m     53\u001b[0m         \u001b[38;5;124m\"\u001b[39m\u001b[38;5;124mX-Planet-App\u001b[39m\u001b[38;5;124m\"\u001b[39m: SYNC_CLIENT_X_PLANET_APP,\n\u001b[0;32m     54\u001b[0m         \u001b[38;5;124m\"\u001b[39m\u001b[38;5;124mUser-Agent\u001b[39m\u001b[38;5;124m\"\u001b[39m: \u001b[38;5;124mf\u001b[39m\u001b[38;5;124m\"\u001b[39m\u001b[38;5;124mplanet-client-python/\u001b[39m\u001b[38;5;132;01m{\u001b[39;00m__version__\u001b[38;5;132;01m}\u001b[39;00m\u001b[38;5;124m/sync\u001b[39m\u001b[38;5;124m\"\u001b[39m,\n\u001b[0;32m     55\u001b[0m     })\n\u001b[0;32m     57\u001b[0m     \u001b[38;5;66;03m# Use provided base URL or default\u001b[39;00m\n\u001b[0;32m     58\u001b[0m     planet_base \u001b[38;5;241m=\u001b[39m base_url \u001b[38;5;129;01mor\u001b[39;00m PLANET_BASE_URL\n",
      "\u001b[1;31mAttributeError\u001b[0m: 'str' object has no attribute '_client'"
     ]
    }
   ],
   "source": [
    "from planet import Planet, data_filter, order_request\n",
    "from datetime import datetime, timedelta\n",
    "import json\n",
    "\n",
    "# Uwierzytelnienie (ustaw zmienną środowiskową)\n",
    "PL_API_KEY='PLAK909f0895d2484280aefe9612a961fc34'\n",
    "pl = Planet()  # automatycznie wykrywa PL_API_KEY"
   ]
  },
  {
   "cell_type": "markdown",
   "id": "5c313850",
   "metadata": {},
   "source": [
    "## Ustawienie obszaru"
   ]
  },
  {
   "cell_type": "code",
   "execution_count": 2,
   "id": "aa827838",
   "metadata": {},
   "outputs": [],
   "source": [
    "remedhus_aoi = {\n",
    "    \"type\": \"Polygon\",\n",
    "    \"coordinates\": [[\n",
    "        [-5.7, 41.1],  # SW corner\n",
    "        [-5.1, 41.1],  # SE corner\n",
    "        [-5.1, 41.5],  # NE corner\n",
    "        [-5.7, 41.5],  # NW corner\n",
    "        [-5.7, 41.1]   # zamknięcie poligonu\n",
    "    ]]\n",
    "}\n",
    "\n",
    "# Lub wczytaj z pliku GeoJSON\n",
    "# with open('remedhus_aoi.geojson', 'r') as f:\n",
    "#     remedhus_aoi = json.load(f)['features'][0]['geometry']"
   ]
  },
  {
   "cell_type": "markdown",
   "id": "0b04fce6",
   "metadata": {},
   "source": [
    "## Wyszukiwanie obrazów"
   ]
  },
  {
   "cell_type": "code",
   "execution_count": 4,
   "id": "26312a03",
   "metadata": {},
   "outputs": [
    {
     "name": "stdout",
     "output_type": "stream",
     "text": [
      "Wyszukiwanie obrazów...\n"
     ]
    },
    {
     "name": "stderr",
     "output_type": "stream",
     "text": [
      "[planet-auth-python] Error loading auth token. Continuing with old configuration and token data. Load error: [Errno 2] No such file or directory: 'C:\\\\Users\\\\delve\\\\.planet\\\\planet-user\\\\token.json'\n",
      "[planet-auth-python] Error obtaining new or refreshed auth token. Continuing with old configuration and token data. Refresh error: [Errno 2] No such file or directory: 'C:\\\\Users\\\\delve\\\\.planet\\\\planet-user\\\\token.json'\n"
     ]
    },
    {
     "ename": "InvalidAPIKey",
     "evalue": "{\"message\": \"Please provide valid credentials. See https://docs.planet.com/develop/authentication for help.\", \"errors\": []}",
     "output_type": "error",
     "traceback": [
      "\u001b[1;31m---------------------------------------------------------------------------\u001b[0m",
      "\u001b[1;31mHTTPStatusError\u001b[0m                           Traceback (most recent call last)",
      "File \u001b[1;32mc:\\Users\\delve\\AppData\\Local\\Programs\\Python\\Python312\\Lib\\site-packages\\planet\\http.py:320\u001b[0m, in \u001b[0;36mSession._raise_for_status\u001b[1;34m(cls, response)\u001b[0m\n\u001b[0;32m    319\u001b[0m \u001b[38;5;28;01mtry\u001b[39;00m:\n\u001b[1;32m--> 320\u001b[0m     \u001b[43mresponse\u001b[49m\u001b[38;5;241;43m.\u001b[39;49m\u001b[43mraise_for_status\u001b[49m\u001b[43m(\u001b[49m\u001b[43m)\u001b[49m\n\u001b[0;32m    321\u001b[0m \u001b[38;5;28;01mexcept\u001b[39;00m httpx\u001b[38;5;241m.\u001b[39mHTTPStatusError \u001b[38;5;28;01mas\u001b[39;00m e:\n",
      "File \u001b[1;32mc:\\Users\\delve\\AppData\\Local\\Programs\\Python\\Python312\\Lib\\site-packages\\httpx\\_models.py:829\u001b[0m, in \u001b[0;36mResponse.raise_for_status\u001b[1;34m(self)\u001b[0m\n\u001b[0;32m    828\u001b[0m message \u001b[38;5;241m=\u001b[39m message\u001b[38;5;241m.\u001b[39mformat(\u001b[38;5;28mself\u001b[39m, error_type\u001b[38;5;241m=\u001b[39merror_type)\n\u001b[1;32m--> 829\u001b[0m \u001b[38;5;28;01mraise\u001b[39;00m HTTPStatusError(message, request\u001b[38;5;241m=\u001b[39mrequest, response\u001b[38;5;241m=\u001b[39m\u001b[38;5;28mself\u001b[39m)\n",
      "\u001b[1;31mHTTPStatusError\u001b[0m: Client error '401 Unauthorized' for url 'https://api.planet.com/data/v1/quick-search'\nFor more information check: https://developer.mozilla.org/en-US/docs/Web/HTTP/Status/401",
      "\nDuring handling of the above exception, another exception occurred:\n",
      "\u001b[1;31mInvalidAPIKey\u001b[0m                             Traceback (most recent call last)",
      "Cell \u001b[1;32mIn[4], line 53\u001b[0m\n\u001b[0;32m     51\u001b[0m items \u001b[38;5;241m=\u001b[39m []\n\u001b[0;32m     52\u001b[0m \u001b[38;5;28mprint\u001b[39m(\u001b[38;5;124m\"\u001b[39m\u001b[38;5;124mWyszukiwanie obrazów...\u001b[39m\u001b[38;5;124m\"\u001b[39m)\n\u001b[1;32m---> 53\u001b[0m \u001b[38;5;28;43;01mfor\u001b[39;49;00m\u001b[43m \u001b[49m\u001b[43mitem\u001b[49m\u001b[43m \u001b[49m\u001b[38;5;129;43;01min\u001b[39;49;00m\u001b[43m \u001b[49m\u001b[43mresults\u001b[49m\u001b[43m:\u001b[49m\n\u001b[0;32m     54\u001b[0m \u001b[43m    \u001b[49m\u001b[43mitems\u001b[49m\u001b[38;5;241;43m.\u001b[39;49m\u001b[43mappend\u001b[49m\u001b[43m(\u001b[49m\u001b[43mitem\u001b[49m\u001b[43m)\u001b[49m\n\u001b[0;32m     55\u001b[0m \u001b[43m    \u001b[49m\u001b[38;5;28;43;01mif\u001b[39;49;00m\u001b[43m \u001b[49m\u001b[38;5;28;43mlen\u001b[39;49m\u001b[43m(\u001b[49m\u001b[43mitems\u001b[49m\u001b[43m)\u001b[49m\u001b[43m \u001b[49m\u001b[38;5;241;43m%\u001b[39;49m\u001b[43m \u001b[49m\u001b[38;5;241;43m100\u001b[39;49m\u001b[43m \u001b[49m\u001b[38;5;241;43m==\u001b[39;49m\u001b[43m \u001b[49m\u001b[38;5;241;43m0\u001b[39;49m\u001b[43m:\u001b[49m\n",
      "File \u001b[1;32mc:\\Users\\delve\\AppData\\Local\\Programs\\Python\\Python312\\Lib\\site-packages\\planet\\http.py:312\u001b[0m, in \u001b[0;36mSession._aiter_to_iter\u001b[1;34m(self, aiter)\u001b[0m\n\u001b[0;32m    309\u001b[0m \u001b[38;5;28;01mtry\u001b[39;00m:\n\u001b[0;32m    310\u001b[0m     \u001b[38;5;28;01mwhile\u001b[39;00m \u001b[38;5;28;01mTrue\u001b[39;00m:\n\u001b[0;32m    311\u001b[0m         \u001b[38;5;28;01myield\u001b[39;00m \u001b[43masyncio\u001b[49m\u001b[38;5;241;43m.\u001b[39;49m\u001b[43mrun_coroutine_threadsafe\u001b[49m\u001b[43m(\u001b[49m\u001b[43mcoro\u001b[49m\u001b[43m(\u001b[49m\u001b[38;5;28;43maiter\u001b[39;49m\u001b[38;5;241;43m.\u001b[39;49m\u001b[38;5;21;43m__anext__\u001b[39;49m\u001b[43m(\u001b[49m\u001b[43m)\u001b[49m\u001b[43m)\u001b[49m\u001b[43m,\u001b[49m\n\u001b[1;32m--> 312\u001b[0m \u001b[43m                                               \u001b[49m\u001b[38;5;28;43mself\u001b[39;49m\u001b[38;5;241;43m.\u001b[39;49m\u001b[43m_loop\u001b[49m\u001b[43m)\u001b[49m\u001b[38;5;241;43m.\u001b[39;49m\u001b[43mresult\u001b[49m\u001b[43m(\u001b[49m\u001b[43m)\u001b[49m\n\u001b[0;32m    313\u001b[0m \u001b[38;5;28;01mexcept\u001b[39;00m \u001b[38;5;167;01mStopAsyncIteration\u001b[39;00m:\n\u001b[0;32m    314\u001b[0m     \u001b[38;5;28;01mpass\u001b[39;00m\n",
      "File \u001b[1;32mc:\\Users\\delve\\AppData\\Local\\Programs\\Python\\Python312\\Lib\\concurrent\\futures\\_base.py:456\u001b[0m, in \u001b[0;36mFuture.result\u001b[1;34m(self, timeout)\u001b[0m\n\u001b[0;32m    454\u001b[0m     \u001b[38;5;28;01mraise\u001b[39;00m CancelledError()\n\u001b[0;32m    455\u001b[0m \u001b[38;5;28;01melif\u001b[39;00m \u001b[38;5;28mself\u001b[39m\u001b[38;5;241m.\u001b[39m_state \u001b[38;5;241m==\u001b[39m FINISHED:\n\u001b[1;32m--> 456\u001b[0m     \u001b[38;5;28;01mreturn\u001b[39;00m \u001b[38;5;28;43mself\u001b[39;49m\u001b[38;5;241;43m.\u001b[39;49m\u001b[43m__get_result\u001b[49m\u001b[43m(\u001b[49m\u001b[43m)\u001b[49m\n\u001b[0;32m    457\u001b[0m \u001b[38;5;28;01melse\u001b[39;00m:\n\u001b[0;32m    458\u001b[0m     \u001b[38;5;28;01mraise\u001b[39;00m \u001b[38;5;167;01mTimeoutError\u001b[39;00m()\n",
      "File \u001b[1;32mc:\\Users\\delve\\AppData\\Local\\Programs\\Python\\Python312\\Lib\\concurrent\\futures\\_base.py:401\u001b[0m, in \u001b[0;36mFuture.__get_result\u001b[1;34m(self)\u001b[0m\n\u001b[0;32m    399\u001b[0m \u001b[38;5;28;01mif\u001b[39;00m \u001b[38;5;28mself\u001b[39m\u001b[38;5;241m.\u001b[39m_exception:\n\u001b[0;32m    400\u001b[0m     \u001b[38;5;28;01mtry\u001b[39;00m:\n\u001b[1;32m--> 401\u001b[0m         \u001b[38;5;28;01mraise\u001b[39;00m \u001b[38;5;28mself\u001b[39m\u001b[38;5;241m.\u001b[39m_exception\n\u001b[0;32m    402\u001b[0m     \u001b[38;5;28;01mfinally\u001b[39;00m:\n\u001b[0;32m    403\u001b[0m         \u001b[38;5;66;03m# Break a reference cycle with the exception in self._exception\u001b[39;00m\n\u001b[0;32m    404\u001b[0m         \u001b[38;5;28mself\u001b[39m \u001b[38;5;241m=\u001b[39m \u001b[38;5;28;01mNone\u001b[39;00m\n",
      "File \u001b[1;32mc:\\Users\\delve\\AppData\\Local\\Programs\\Python\\Python312\\Lib\\site-packages\\planet\\http.py:307\u001b[0m, in \u001b[0;36mSession._aiter_to_iter.<locals>.coro\u001b[1;34m(a)\u001b[0m\n\u001b[0;32m    306\u001b[0m \u001b[38;5;28;01masync\u001b[39;00m \u001b[38;5;28;01mdef\u001b[39;00m \u001b[38;5;21mcoro\u001b[39m(a: Awaitable[T]) \u001b[38;5;241m-\u001b[39m\u001b[38;5;241m>\u001b[39m T:\n\u001b[1;32m--> 307\u001b[0m     \u001b[38;5;28;01mreturn\u001b[39;00m \u001b[38;5;28;01mawait\u001b[39;00m a\n",
      "File \u001b[1;32mc:\\Users\\delve\\AppData\\Local\\Programs\\Python\\Python312\\Lib\\site-packages\\planet\\clients\\data.py:170\u001b[0m, in \u001b[0;36mDataClient.search\u001b[1;34m(self, item_types, search_filter, name, sort, limit, geometry)\u001b[0m\n\u001b[0;32m    167\u001b[0m         \u001b[38;5;28;01mraise\u001b[39;00m exceptions\u001b[38;5;241m.\u001b[39mClientError(\n\u001b[0;32m    168\u001b[0m             \u001b[38;5;124mf\u001b[39m\u001b[38;5;124m'\u001b[39m\u001b[38;5;132;01m{\u001b[39;00msort\u001b[38;5;132;01m}\u001b[39;00m\u001b[38;5;124m must be one of \u001b[39m\u001b[38;5;132;01m{\u001b[39;00mSEARCH_SORT\u001b[38;5;132;01m}\u001b[39;00m\u001b[38;5;124m'\u001b[39m)\n\u001b[0;32m    169\u001b[0m     params[\u001b[38;5;124m'\u001b[39m\u001b[38;5;124m_sort\u001b[39m\u001b[38;5;124m'\u001b[39m] \u001b[38;5;241m=\u001b[39m sort\n\u001b[1;32m--> 170\u001b[0m response \u001b[38;5;241m=\u001b[39m \u001b[38;5;28;01mawait\u001b[39;00m \u001b[38;5;28mself\u001b[39m\u001b[38;5;241m.\u001b[39m_session\u001b[38;5;241m.\u001b[39mrequest(method\u001b[38;5;241m=\u001b[39m\u001b[38;5;124m'\u001b[39m\u001b[38;5;124mPOST\u001b[39m\u001b[38;5;124m'\u001b[39m,\n\u001b[0;32m    171\u001b[0m                                        url\u001b[38;5;241m=\u001b[39murl,\n\u001b[0;32m    172\u001b[0m                                        json\u001b[38;5;241m=\u001b[39mrequest_json,\n\u001b[0;32m    173\u001b[0m                                        params\u001b[38;5;241m=\u001b[39mparams)\n\u001b[0;32m    174\u001b[0m \u001b[38;5;28;01masync\u001b[39;00m \u001b[38;5;28;01mfor\u001b[39;00m i \u001b[38;5;129;01min\u001b[39;00m Items(response, \u001b[38;5;28mself\u001b[39m\u001b[38;5;241m.\u001b[39m_session\u001b[38;5;241m.\u001b[39mrequest, limit\u001b[38;5;241m=\u001b[39mlimit):\n\u001b[0;32m    175\u001b[0m     \u001b[38;5;28;01myield\u001b[39;00m i\n",
      "File \u001b[1;32mc:\\Users\\delve\\AppData\\Local\\Programs\\Python\\Python312\\Lib\\site-packages\\planet\\http.py:428\u001b[0m, in \u001b[0;36mSession.request\u001b[1;34m(self, method, url, json, params)\u001b[0m\n\u001b[0;32m    420\u001b[0m     headers \u001b[38;5;241m=\u001b[39m \u001b[38;5;28;01mNone\u001b[39;00m\n\u001b[0;32m    422\u001b[0m request \u001b[38;5;241m=\u001b[39m \u001b[38;5;28mself\u001b[39m\u001b[38;5;241m.\u001b[39m_client\u001b[38;5;241m.\u001b[39mbuild_request(method\u001b[38;5;241m=\u001b[39mmethod,\n\u001b[0;32m    423\u001b[0m                                      url\u001b[38;5;241m=\u001b[39murl,\n\u001b[0;32m    424\u001b[0m                                      json\u001b[38;5;241m=\u001b[39mjson,\n\u001b[0;32m    425\u001b[0m                                      params\u001b[38;5;241m=\u001b[39mparams,\n\u001b[0;32m    426\u001b[0m                                      headers\u001b[38;5;241m=\u001b[39mheaders)\n\u001b[1;32m--> 428\u001b[0m http_response \u001b[38;5;241m=\u001b[39m \u001b[38;5;28;01mawait\u001b[39;00m \u001b[38;5;28mself\u001b[39m\u001b[38;5;241m.\u001b[39m_retry(\u001b[38;5;28mself\u001b[39m\u001b[38;5;241m.\u001b[39m_send, request, stream\u001b[38;5;241m=\u001b[39m\u001b[38;5;28;01mFalse\u001b[39;00m)\n\u001b[0;32m    429\u001b[0m \u001b[38;5;28;01mreturn\u001b[39;00m models\u001b[38;5;241m.\u001b[39mResponse(http_response)\n",
      "File \u001b[1;32mc:\\Users\\delve\\AppData\\Local\\Programs\\Python\\Python312\\Lib\\site-packages\\planet\\http.py:371\u001b[0m, in \u001b[0;36mSession._retry\u001b[1;34m(self, func, *a, **kw)\u001b[0m\n\u001b[0;32m    369\u001b[0m                 \u001b[38;5;28;01mawait\u001b[39;00m asyncio\u001b[38;5;241m.\u001b[39msleep(wait_time)\n\u001b[0;32m    370\u001b[0m         \u001b[38;5;28;01melse\u001b[39;00m:\n\u001b[1;32m--> 371\u001b[0m             \u001b[38;5;28;01mraise\u001b[39;00m e\n\u001b[0;32m    373\u001b[0m \u001b[38;5;28mself\u001b[39m\u001b[38;5;241m.\u001b[39moutcomes\u001b[38;5;241m.\u001b[39mupdate([\u001b[38;5;124m'\u001b[39m\u001b[38;5;124mSuccessful\u001b[39m\u001b[38;5;124m'\u001b[39m])\n\u001b[0;32m    374\u001b[0m \u001b[38;5;28;01mreturn\u001b[39;00m resp\n",
      "File \u001b[1;32mc:\\Users\\delve\\AppData\\Local\\Programs\\Python\\Python312\\Lib\\site-packages\\planet\\http.py:356\u001b[0m, in \u001b[0;36mSession._retry\u001b[1;34m(self, func, *a, **kw)\u001b[0m\n\u001b[0;32m    354\u001b[0m num_tries \u001b[38;5;241m+\u001b[39m\u001b[38;5;241m=\u001b[39m \u001b[38;5;241m1\u001b[39m\n\u001b[0;32m    355\u001b[0m \u001b[38;5;28;01mtry\u001b[39;00m:\n\u001b[1;32m--> 356\u001b[0m     resp \u001b[38;5;241m=\u001b[39m \u001b[38;5;28;01mawait\u001b[39;00m func(\u001b[38;5;241m*\u001b[39ma, \u001b[38;5;241m*\u001b[39m\u001b[38;5;241m*\u001b[39mkw)\n\u001b[0;32m    357\u001b[0m     \u001b[38;5;28;01mbreak\u001b[39;00m\n\u001b[0;32m    358\u001b[0m \u001b[38;5;28;01mexcept\u001b[39;00m \u001b[38;5;167;01mException\u001b[39;00m \u001b[38;5;28;01mas\u001b[39;00m e:\n",
      "File \u001b[1;32mc:\\Users\\delve\\AppData\\Local\\Programs\\Python\\Python312\\Lib\\site-packages\\planet\\http.py:434\u001b[0m, in \u001b[0;36mSession._send\u001b[1;34m(self, request, stream)\u001b[0m\n\u001b[0;32m    432\u001b[0m \u001b[38;5;250m\u001b[39m\u001b[38;5;124;03m\"\"\"Send request with with rate/worker limiting.\"\"\"\u001b[39;00m\n\u001b[0;32m    433\u001b[0m \u001b[38;5;28;01masync\u001b[39;00m \u001b[38;5;28;01mwith\u001b[39;00m \u001b[38;5;28mself\u001b[39m\u001b[38;5;241m.\u001b[39m_limiter:\n\u001b[1;32m--> 434\u001b[0m     http_resp \u001b[38;5;241m=\u001b[39m \u001b[38;5;28;01mawait\u001b[39;00m \u001b[38;5;28mself\u001b[39m\u001b[38;5;241m.\u001b[39m_client\u001b[38;5;241m.\u001b[39msend(request, stream\u001b[38;5;241m=\u001b[39mstream)\n\u001b[0;32m    436\u001b[0m \u001b[38;5;28;01mreturn\u001b[39;00m http_resp\n",
      "File \u001b[1;32mc:\\Users\\delve\\AppData\\Local\\Programs\\Python\\Python312\\Lib\\site-packages\\httpx\\_client.py:1629\u001b[0m, in \u001b[0;36mAsyncClient.send\u001b[1;34m(self, request, stream, auth, follow_redirects)\u001b[0m\n\u001b[0;32m   1625\u001b[0m \u001b[38;5;28mself\u001b[39m\u001b[38;5;241m.\u001b[39m_set_timeout(request)\n\u001b[0;32m   1627\u001b[0m auth \u001b[38;5;241m=\u001b[39m \u001b[38;5;28mself\u001b[39m\u001b[38;5;241m.\u001b[39m_build_request_auth(request, auth)\n\u001b[1;32m-> 1629\u001b[0m response \u001b[38;5;241m=\u001b[39m \u001b[38;5;28;01mawait\u001b[39;00m \u001b[38;5;28mself\u001b[39m\u001b[38;5;241m.\u001b[39m_send_handling_auth(\n\u001b[0;32m   1630\u001b[0m     request,\n\u001b[0;32m   1631\u001b[0m     auth\u001b[38;5;241m=\u001b[39mauth,\n\u001b[0;32m   1632\u001b[0m     follow_redirects\u001b[38;5;241m=\u001b[39mfollow_redirects,\n\u001b[0;32m   1633\u001b[0m     history\u001b[38;5;241m=\u001b[39m[],\n\u001b[0;32m   1634\u001b[0m )\n\u001b[0;32m   1635\u001b[0m \u001b[38;5;28;01mtry\u001b[39;00m:\n\u001b[0;32m   1636\u001b[0m     \u001b[38;5;28;01mif\u001b[39;00m \u001b[38;5;129;01mnot\u001b[39;00m stream:\n",
      "File \u001b[1;32mc:\\Users\\delve\\AppData\\Local\\Programs\\Python\\Python312\\Lib\\site-packages\\httpx\\_client.py:1657\u001b[0m, in \u001b[0;36mAsyncClient._send_handling_auth\u001b[1;34m(self, request, auth, follow_redirects, history)\u001b[0m\n\u001b[0;32m   1654\u001b[0m request \u001b[38;5;241m=\u001b[39m \u001b[38;5;28;01mawait\u001b[39;00m auth_flow\u001b[38;5;241m.\u001b[39m\u001b[38;5;21m__anext__\u001b[39m()\n\u001b[0;32m   1656\u001b[0m \u001b[38;5;28;01mwhile\u001b[39;00m \u001b[38;5;28;01mTrue\u001b[39;00m:\n\u001b[1;32m-> 1657\u001b[0m     response \u001b[38;5;241m=\u001b[39m \u001b[38;5;28;01mawait\u001b[39;00m \u001b[38;5;28mself\u001b[39m\u001b[38;5;241m.\u001b[39m_send_handling_redirects(\n\u001b[0;32m   1658\u001b[0m         request,\n\u001b[0;32m   1659\u001b[0m         follow_redirects\u001b[38;5;241m=\u001b[39mfollow_redirects,\n\u001b[0;32m   1660\u001b[0m         history\u001b[38;5;241m=\u001b[39mhistory,\n\u001b[0;32m   1661\u001b[0m     )\n\u001b[0;32m   1662\u001b[0m     \u001b[38;5;28;01mtry\u001b[39;00m:\n\u001b[0;32m   1663\u001b[0m         \u001b[38;5;28;01mtry\u001b[39;00m:\n",
      "File \u001b[1;32mc:\\Users\\delve\\AppData\\Local\\Programs\\Python\\Python312\\Lib\\site-packages\\httpx\\_client.py:1715\u001b[0m, in \u001b[0;36mAsyncClient._send_handling_redirects\u001b[1;34m(self, request, follow_redirects, history)\u001b[0m\n\u001b[0;32m   1713\u001b[0m \u001b[38;5;28;01mexcept\u001b[39;00m \u001b[38;5;167;01mBaseException\u001b[39;00m \u001b[38;5;28;01mas\u001b[39;00m exc:\n\u001b[0;32m   1714\u001b[0m     \u001b[38;5;28;01mawait\u001b[39;00m response\u001b[38;5;241m.\u001b[39maclose()\n\u001b[1;32m-> 1715\u001b[0m     \u001b[38;5;28;01mraise\u001b[39;00m exc\n",
      "File \u001b[1;32mc:\\Users\\delve\\AppData\\Local\\Programs\\Python\\Python312\\Lib\\site-packages\\httpx\\_client.py:1697\u001b[0m, in \u001b[0;36mAsyncClient._send_handling_redirects\u001b[1;34m(self, request, follow_redirects, history)\u001b[0m\n\u001b[0;32m   1695\u001b[0m \u001b[38;5;28;01mtry\u001b[39;00m:\n\u001b[0;32m   1696\u001b[0m     \u001b[38;5;28;01mfor\u001b[39;00m hook \u001b[38;5;129;01min\u001b[39;00m \u001b[38;5;28mself\u001b[39m\u001b[38;5;241m.\u001b[39m_event_hooks[\u001b[38;5;124m\"\u001b[39m\u001b[38;5;124mresponse\u001b[39m\u001b[38;5;124m\"\u001b[39m]:\n\u001b[1;32m-> 1697\u001b[0m         \u001b[38;5;28;01mawait\u001b[39;00m hook(response)\n\u001b[0;32m   1699\u001b[0m     response\u001b[38;5;241m.\u001b[39mhistory \u001b[38;5;241m=\u001b[39m \u001b[38;5;28mlist\u001b[39m(history)\n\u001b[0;32m   1701\u001b[0m     \u001b[38;5;28;01mif\u001b[39;00m \u001b[38;5;129;01mnot\u001b[39;00m response\u001b[38;5;241m.\u001b[39mhas_redirect_location:\n",
      "File \u001b[1;32mc:\\Users\\delve\\AppData\\Local\\Programs\\Python\\Python312\\Lib\\site-packages\\planet\\http.py:323\u001b[0m, in \u001b[0;36mSession._raise_for_status\u001b[1;34m(cls, response)\u001b[0m\n\u001b[0;32m    321\u001b[0m     \u001b[38;5;28;01mexcept\u001b[39;00m httpx\u001b[38;5;241m.\u001b[39mHTTPStatusError \u001b[38;5;28;01mas\u001b[39;00m e:\n\u001b[0;32m    322\u001b[0m         \u001b[38;5;28;01mawait\u001b[39;00m e\u001b[38;5;241m.\u001b[39mresponse\u001b[38;5;241m.\u001b[39maread()\n\u001b[1;32m--> 323\u001b[0m         \u001b[38;5;28;43mcls\u001b[39;49m\u001b[38;5;241;43m.\u001b[39;49m\u001b[43m_convert_and_raise\u001b[49m\u001b[43m(\u001b[49m\u001b[43me\u001b[49m\u001b[43m)\u001b[49m\n\u001b[0;32m    325\u001b[0m \u001b[38;5;28;01mreturn\u001b[39;00m\n",
      "File \u001b[1;32mc:\\Users\\delve\\AppData\\Local\\Programs\\Python\\Python312\\Lib\\site-packages\\planet\\http.py:96\u001b[0m, in \u001b[0;36mBaseSession._convert_and_raise\u001b[1;34m(cls, error)\u001b[0m\n\u001b[0;32m     85\u001b[0m error_types \u001b[38;5;241m=\u001b[39m {\n\u001b[0;32m     86\u001b[0m     HTTPStatus\u001b[38;5;241m.\u001b[39mBAD_REQUEST: exceptions\u001b[38;5;241m.\u001b[39mBadQuery,\n\u001b[0;32m     87\u001b[0m     HTTPStatus\u001b[38;5;241m.\u001b[39mUNAUTHORIZED: exceptions\u001b[38;5;241m.\u001b[39mInvalidAPIKey,\n\u001b[1;32m   (...)\u001b[0m\n\u001b[0;32m     93\u001b[0m     HTTPStatus\u001b[38;5;241m.\u001b[39mBAD_GATEWAY: exceptions\u001b[38;5;241m.\u001b[39mBadGateway\n\u001b[0;32m     94\u001b[0m }\n\u001b[0;32m     95\u001b[0m error_type \u001b[38;5;241m=\u001b[39m error_types\u001b[38;5;241m.\u001b[39mget(response\u001b[38;5;241m.\u001b[39mstatus_code, exceptions\u001b[38;5;241m.\u001b[39mAPIError)\n\u001b[1;32m---> 96\u001b[0m \u001b[38;5;28;01mraise\u001b[39;00m error_type(response\u001b[38;5;241m.\u001b[39mtext)\n",
      "\u001b[1;31mInvalidAPIKey\u001b[0m: {\"message\": \"Please provide valid credentials. See https://docs.planet.com/develop/authentication for help.\", \"errors\": []}"
     ]
    }
   ],
   "source": [
    "def search_daily_imagery(start_date, end_date, aoi, max_cloud_cover=0.2):\n",
    "    \"\"\"\n",
    "    Wyszukuje codzienne obrazy PlanetScope dla danego okresu\n",
    "    \n",
    "    Args:\n",
    "        start_date: data początkowa (str lub datetime)\n",
    "        end_date: data końcowa (str lub datetime)\n",
    "        aoi: geometria obszaru zainteresowania (GeoJSON)\n",
    "        max_cloud_cover: maksymalne zachmurzenie (0.0-1.0)\n",
    "    \"\"\"\n",
    "    \n",
    "    # Konwersja dat\n",
    "    if isinstance(start_date, str):\n",
    "        start_date = datetime.fromisoformat(start_date)\n",
    "    if isinstance(end_date, str):\n",
    "        end_date = datetime.fromisoformat(end_date)\n",
    "    \n",
    "    # Utworzenie filtrów\n",
    "    search_filter = data_filter.and_filter([\n",
    "        data_filter.geometry_filter(aoi),\n",
    "        data_filter.date_range_filter(\n",
    "            field_name=\"acquired\",\n",
    "            gte=start_date,\n",
    "            lte=end_date\n",
    "        ),\n",
    "        data_filter.range_filter(\n",
    "            field_name=\"cloud_cover\",\n",
    "            gte=0.0,\n",
    "            lte=max_cloud_cover\n",
    "        ),\n",
    "        data_filter.string_in_filter(\n",
    "            field_name=\"quality_category\",\n",
    "            values=[\"standard\"]\n",
    "        )\n",
    "    ])\n",
    "    \n",
    "    # Wyszukiwanie - zwraca generator\n",
    "    results = pl.data.search(\n",
    "        item_types=[\"PSScene\"],\n",
    "        search_filter=search_filter\n",
    "    )\n",
    "    \n",
    "    return results\n",
    "\n",
    "# Przykład użycia\n",
    "start = \"2024-12-01T00:00:00Z\"\n",
    "end = \"2024-12-31T23:59:59Z\"\n",
    "results = search_daily_imagery(start, end, remedhus_aoi, max_cloud_cover=0.15)\n",
    "\n",
    "# POPRAWIONE: Bezpośrednie iterowanie po generatorze\n",
    "items = []\n",
    "print(\"Wyszukiwanie obrazów...\")\n",
    "for item in results:\n",
    "    items.append(item)\n",
    "    if len(items) % 100 == 0:\n",
    "        print(f\"Znaleziono {len(items)} obrazów...\")\n",
    "\n",
    "print(f\"\\nŁącznie znaleziono {len(items)} obrazów\")\n",
    "\n",
    "# Wyświetl przykładowe informacje o pierwszym obrazie\n",
    "if items:\n",
    "    first = items[0]\n",
    "    print(f\"\\nPrzykładowy obraz:\")\n",
    "    print(f\"  ID: {first['id']}\")\n",
    "    print(f\"  Data: {first['properties']['acquired']}\")\n",
    "    print(f\"  Zachmurzenie: {first['properties']['cloud_cover']*100:.1f}%\")\n",
    "    print(f\"  Typ instrumentu: {first['properties']['instrument']}\")\n"
   ]
  },
  {
   "cell_type": "markdown",
   "id": "91d23753",
   "metadata": {},
   "source": [
    "## Tworzenie zamówienia"
   ]
  },
  {
   "cell_type": "code",
   "execution_count": null,
   "id": "a039e826",
   "metadata": {},
   "outputs": [],
   "source": [
    "def create_order_for_items(item_ids, order_name=\"REMEDHUS_daily\"):\n",
    "    \"\"\"\n",
    "    Tworzy zamówienie dla wybranych obrazów\n",
    "    \"\"\"\n",
    "    \n",
    "    # Wybór typu produktu\n",
    "    # ortho_analytic_8b_sr - 8-kanałowe dane z korekcją atmosferyczną\n",
    "    # ortho_analytic_4b_sr - 4-kanałowe dane z korekcją atmosferyczną\n",
    "    \n",
    "    request = order_request.build_request(\n",
    "        name=order_name,\n",
    "        products=[\n",
    "            order_request.product(\n",
    "                item_ids=item_ids,\n",
    "                product_bundle='analytic_8b_sr_udm2',  # 8-band surface reflectance\n",
    "                item_type='PSScene'\n",
    "            )\n",
    "        ],\n",
    "        tools=[\n",
    "            order_request.clip_tool(aoi=remedhus_aoi),  # przycięcie do AOI\n",
    "            order_request.reproject_tool(\n",
    "                projection=\"EPSG:4326\",  # WGS84\n",
    "                kernel=\"cubic\"\n",
    "            )\n",
    "        ]\n",
    "    )\n",
    "    \n",
    "    # Utworzenie zamówienia\n",
    "    order = pl.orders.create_order(request)\n",
    "    print(f\"Zamówienie utworzone: {order['id']}\")\n",
    "    \n",
    "    return order\n",
    "\n",
    "# Przykład: wybierz pierwsze 10 obrazów\n",
    "item_ids = [item['id'] for item in items[:10]]\n",
    "order = create_order_for_items(item_ids)"
   ]
  },
  {
   "cell_type": "markdown",
   "id": "64f76bcd",
   "metadata": {},
   "source": [
    "## Pobieranie zamówienia"
   ]
  },
  {
   "cell_type": "code",
   "execution_count": null,
   "id": "b594fb58",
   "metadata": {},
   "outputs": [],
   "source": [
    "def download_order(order_id, dest_dir='./remedhus_data'):\n",
    "    \"\"\"\n",
    "    Czeka na przetworzenie i pobiera zamówienie\n",
    "    \"\"\"\n",
    "    import os\n",
    "    \n",
    "    # Oczekiwanie na przetworzenie (może trwać kilka minut)\n",
    "    print(\"Oczekiwanie na przetworzenie zamówienia...\")\n",
    "    pl.orders.wait(order_id, max_attempts=300, delay=30)\n",
    "    \n",
    "    # Pobieranie\n",
    "    print(f\"Pobieranie do {dest_dir}...\")\n",
    "    os.makedirs(dest_dir, exist_ok=True)\n",
    "    pl.orders.download_order(order_id, directory=dest_dir, overwrite=True)\n",
    "    \n",
    "    print(\"Pobieranie zakończone!\")\n",
    "\n",
    "# Pobierz zamówienie\n",
    "download_order(order['id'], dest_dir='./data/remedhus_2024')"
   ]
  },
  {
   "cell_type": "code",
   "execution_count": null,
   "id": "ddc3a995",
   "metadata": {},
   "outputs": [],
   "source": [
    "def download_daily_timeseries(start_date, end_date, aoi, output_dir):\n",
    "    \"\"\"\n",
    "    Automatycznie pobiera całą serię czasową\n",
    "    \"\"\"\n",
    "    import os\n",
    "    from pathlib import Path\n",
    "    \n",
    "    # Wyszukaj obrazy\n",
    "    print(f\"Wyszukiwanie obrazów od {start_date} do {end_date}...\")\n",
    "    results = search_daily_imagery(start_date, end_date, aoi)\n",
    "    items = list(results.items_iter(limit=5000))\n",
    "    \n",
    "    print(f\"Znaleziono {len(items)} obrazów\")\n",
    "    \n",
    "    # Grupuj po datach (może być kilka obrazów dziennie)\n",
    "    from collections import defaultdict\n",
    "    images_by_date = defaultdict(list)\n",
    "    \n",
    "    for item in items:\n",
    "        date = item['properties']['acquired'][:10]  # YYYY-MM-DD\n",
    "        images_by_date[date].append(item['id'])\n",
    "    \n",
    "    print(f\"Pokrycie czasowe: {len(images_by_date)} dni\")\n",
    "    \n",
    "    # Orders API ma limit 500 item_ids na zamówienie\n",
    "    # Dziel na mniejsze partie\n",
    "    batch_size = 500\n",
    "    all_ids = [item['id'] for item in items]\n",
    "    \n",
    "    for i in range(0, len(all_ids), batch_size):\n",
    "        batch = all_ids[i:i+batch_size]\n",
    "        print(f\"\\nPrzetwarzanie partii {i//batch_size + 1}...\")\n",
    "        \n",
    "        order = create_order_for_items(\n",
    "            batch,\n",
    "            order_name=f\"REMEDHUS_batch_{i//batch_size + 1}\"\n",
    "        )\n",
    "        \n",
    "        download_order(\n",
    "            order['id'],\n",
    "            dest_dir=os.path.join(output_dir, f'batch_{i//batch_size + 1}')\n",
    "        )\n",
    "\n",
    "# Użycie\n",
    "download_daily_timeseries(\n",
    "    start_date=\"2024-01-01\",\n",
    "    end_date=\"2024-12-31\",\n",
    "    aoi=remedhus_aoi,\n",
    "    output_dir=\"./data/remedhus_timeseries\"\n",
    ")\n"
   ]
  }
 ],
 "metadata": {
  "kernelspec": {
   "display_name": "Python 3",
   "language": "python",
   "name": "python3"
  },
  "language_info": {
   "codemirror_mode": {
    "name": "ipython",
    "version": 3
   },
   "file_extension": ".py",
   "mimetype": "text/x-python",
   "name": "python",
   "nbconvert_exporter": "python",
   "pygments_lexer": "ipython3",
   "version": "3.12.4"
  }
 },
 "nbformat": 4,
 "nbformat_minor": 5
}
